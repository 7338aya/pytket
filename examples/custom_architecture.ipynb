{
 "cells": [
  {
   "cell_type": "markdown",
   "metadata": {},
   "source": [
    "### Custom Architecture"
   ]
  },
  {
   "cell_type": "markdown",
   "metadata": {},
   "source": [
    "We have seen routing for a defined device, but we can also see how different connectivities perform by defining our own architectures. For this we need the `Architecture` class, which can be initialized with a list of pairs of qubit labels showing which qubits are connected. Make sure to only define each edge once (i.e. don't add (1, 2) and (2, 1)). Let's build the following example architecture, where lines show connections between qubit labels:\n",
    "\n",
    "&nbsp;&nbsp;&nbsp;&nbsp;&nbsp;0<br>\n",
    "&nbsp;&nbsp;/&nbsp;&nbsp;|&nbsp;&nbsp;\\ <br>\n",
    "1&nbsp;&nbsp;&nbsp;2&nbsp;&nbsp;&nbsp;3<br>\n",
    "&nbsp;&nbsp;\\ &nbsp;|&nbsp;&nbsp;/<br>\n",
    "&nbsp;&nbsp;&nbsp;&nbsp;&nbsp;4"
   ]
  },
  {
   "cell_type": "code",
   "execution_count": 1,
   "metadata": {},
   "outputs": [],
   "source": [
    "import cirq\n",
    "from pytket import Architecture\n",
    "\n",
    "number_nodes = 5\n",
    "custom_arch = Architecture([(0, 1), (0, 2), (0, 3), (1, 4), (2, 4), (3, 4)], number_nodes)"
   ]
  },
  {
   "cell_type": "markdown",
   "metadata": {},
   "source": [
    "Next, build a circuit. We will need the `IndexedQubit` type from `pytket` to do this in order to later use the custom architecture."
   ]
  },
  {
   "cell_type": "code",
   "execution_count": 2,
   "metadata": {},
   "outputs": [
    {
     "data": {
      "text/html": [
       "<pre style=\"overflow: auto; white-space: pre;\">0: ───H───@───────────────────────────\n",
       "          │\n",
       "1: ───X───┼───────────@───────────────\n",
       "          │           │\n",
       "2: ───────┼───Y───@───┼───────────────\n",
       "          │       │   │\n",
       "3: ───────┼───────X───X───Y───@───────\n",
       "          │                   │\n",
       "4: ───────X───────────────────X───Z───</pre>"
      ],
      "text/plain": [
       "0: ───H───@───────────────────────────\n",
       "          │\n",
       "1: ───X───┼───────────@───────────────\n",
       "          │           │\n",
       "2: ───────┼───Y───@───┼───────────────\n",
       "          │       │   │\n",
       "3: ───────┼───────X───X───Y───@───────\n",
       "          │                   │\n",
       "4: ───────X───────────────────X───Z───"
      ]
     },
     "execution_count": 2,
     "metadata": {},
     "output_type": "execute_result"
    }
   ],
   "source": [
    "from pytket.qubits import IndexedQubit\n",
    "\n",
    "qubits = [IndexedQubit(i) for i in range(5)]\n",
    "\n",
    "simple_circuit = cirq.Circuit.from_ops(\n",
    "        cirq.H(qubits[0]),\n",
    "        cirq.X(qubits[1]),\n",
    "        cirq.CNOT(qubits[0], qubits[4]),\n",
    "        cirq.Y(qubits[2]),\n",
    "        cirq.CNOT(qubits[2], qubits[3]),\n",
    "        cirq.CNOT(qubits[1], qubits[3]),\n",
    "        cirq.Y(qubits[3]),\n",
    "        cirq.CNOT(qubits[3], qubits[4]),\n",
    "        cirq.Z(qubits[4])\n",
    "    )\n",
    "simple_circuit"
   ]
  },
  {
   "cell_type": "code",
   "execution_count": 3,
   "metadata": {},
   "outputs": [
    {
     "data": {
      "text/html": [
       "<pre style=\"overflow: auto; white-space: pre;\">0: ───H───×───────@───×───@───────────────\n",
       "          │       │   │   │\n",
       "1: ───X───┼───────┼───×───┼───────────────\n",
       "          │       │       │\n",
       "2: ───Y───×───@───┼───────┼───────────────\n",
       "              │   │       │\n",
       "3: ───────────┼───X───────X───Y───@───────\n",
       "              │                   │\n",
       "4: ───────────X───────────────────X───Z───</pre>"
      ],
      "text/plain": [
       "0: ───H───×───────@───×───@───────────────\n",
       "          │       │   │   │\n",
       "1: ───X───┼───────┼───×───┼───────────────\n",
       "          │       │       │\n",
       "2: ───Y───×───@───┼───────┼───────────────\n",
       "              │   │       │\n",
       "3: ───────────┼───X───────X───Y───@───────\n",
       "              │                   │\n",
       "4: ───────────X───────────────────X───Z───"
      ]
     },
     "execution_count": 3,
     "metadata": {},
     "output_type": "execute_result"
    }
   ],
   "source": [
    "from pytket._route_wrapper import route_circuit_arc\n",
    "route_circuit_arc(simple_circuit, custom_arch, qubits)"
   ]
  },
  {
   "cell_type": "markdown",
   "metadata": {},
   "source": [
    "Two swaps are added to make the interactions between qubits (0, 4), (2, 3) and (1, 3) possible.<br>\n",
    "Try creating your own architectures and circuits and seeing how costly routing is."
   ]
  },
  {
   "cell_type": "code",
   "execution_count": null,
   "metadata": {},
   "outputs": [],
   "source": []
  }
 ],
 "metadata": {
  "kernelspec": {
   "display_name": "Python 3",
   "language": "python",
   "name": "python3"
  },
  "language_info": {
   "codemirror_mode": {
    "name": "ipython",
    "version": 3
   },
   "file_extension": ".py",
   "mimetype": "text/x-python",
   "name": "python",
   "nbconvert_exporter": "python",
   "pygments_lexer": "ipython3",
   "version": "3.6.3"
  }
 },
 "nbformat": 4,
 "nbformat_minor": 2
}
