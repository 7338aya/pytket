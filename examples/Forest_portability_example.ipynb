{
 "cells": [
  {
   "cell_type": "markdown",
   "metadata": {},
   "source": [
    "# Code Portability and Intro to Forest"
   ]
  },
  {
   "cell_type": "markdown",
   "metadata": {},
   "source": [
    "The quantum hardware landscape is incredibly competitive and rapidly changing. Many full-stack quantum software platforms lock users into them in order to use the associated devices and simulators. This notebook demonstrates how `pytket` can free up your existing high-level code to be used on devices from other providers. We will take a state-preparation and evolution circuit designed using the Qiskit Aqua package and enable it to be run on several Rigetti backends.\n",
    "\n",
    "To use a real hardware device, this notebook should be run from a Rigetti QMI instance. Look [here](https://www.rigetti.com/qcs/docs/intro-to-qcs) for information on how to set this up. Otherwise, make sure you have QuilC and QVM running in server mode. You will need to have `pytket`, `pytket_pyquil`, and `pytket_qiskit` installed, which are all available from PyPI."
   ]
  },
  {
   "cell_type": "markdown",
   "metadata": {},
   "source": [
    "IBM's Qiskit Aqua package is a toolkit for high-level circuit synthesis and quantum algorithms. We will start by building a random initial state over some qubits."
   ]
  },
  {
   "cell_type": "code",
   "execution_count": 1,
   "metadata": {},
   "outputs": [
    {
     "name": "stdout",
     "output_type": "stream",
     "text": [
      "                                                                   »\n",
      "q0_0: |0>──────────────────────────────────────────────────────────»\n",
      "                                     ┌───┐┌──────────────────┐┌───┐»\n",
      "q0_1: |0>────────────────────────────┤ X ├┤ U3(-0.57536,0,0) ├┤ X ├»\n",
      "         ┌─────────────────┐┌───────┐└─┬─┘└──────────────────┘└─┬─┘»\n",
      "q0_2: |0>┤ U3(0.96915,0,0) ├┤ U1(0) ├──■────────────────────────■──»\n",
      "         └─────────────────┘└───────┘                              »\n",
      "«                                                    ┌───┐┌─────────────────┐»\n",
      "«q0_0: ──────────────────────────────────────────────┤ X ├┤ U3(0.20377,0,0) ├»\n",
      "«      ┌────────────────┐┌───┐┌───────┐┌───┐┌───────┐└─┬─┘└─────────────────┘»\n",
      "«q0_1: ┤ U3(1.7309,0,0) ├┤ X ├┤ U1(0) ├┤ X ├┤ U1(0) ├──┼─────────────────────»\n",
      "«      └────────────────┘└─┬─┘└───────┘└─┬─┘└───────┘  │                     »\n",
      "«q0_2: ────────────────────■─────────────■─────────────■─────────────────────»\n",
      "«                                                                            »\n",
      "«      ┌───┐┌─────────────────┐┌───┐┌───┐┌───┐┌─────────────────┐┌───┐»\n",
      "«q0_0: ┤ X ├┤ U3(0.13583,0,0) ├┤ X ├┤ X ├┤ X ├┤ U3(0.53266,0,0) ├┤ X ├»\n",
      "«      └─┬─┘└─────────────────┘└─┬─┘└─┬─┘└─┬─┘└─────────────────┘└─┬─┘»\n",
      "«q0_1: ──■───────────────────────■────┼────■───────────────────────■──»\n",
      "«                                     │                               »\n",
      "«q0_2: ───────────────────────────────■───────────────────────────────»\n",
      "«                                                                     »\n",
      "«      ┌─────────────────┐┌───┐┌───────┐┌───┐┌───────┐┌───┐┌───┐┌───┐┌───────┐»\n",
      "«q0_0: ┤ U3(0.87577,0,0) ├┤ X ├┤ U1(0) ├┤ X ├┤ U1(0) ├┤ X ├┤ X ├┤ X ├┤ U1(0) ├»\n",
      "«      └─────────────────┘└─┬─┘└───────┘└─┬─┘└───────┘└─┬─┘└─┬─┘└─┬─┘└───────┘»\n",
      "«q0_1: ─────────────────────┼─────────────■─────────────■────┼────■───────────»\n",
      "«                           │                                │                »\n",
      "«q0_2: ─────────────────────■────────────────────────────────■────────────────»\n",
      "«                                                                             »\n",
      "«      ┌───┐┌───────┐\n",
      "«q0_0: ┤ X ├┤ U1(0) ├\n",
      "«      └─┬─┘└───────┘\n",
      "«q0_1: ──■───────────\n",
      "«                    \n",
      "«q0_2: ──────────────\n",
      "«                    \n"
     ]
    }
   ],
   "source": [
    "from qiskit import QuantumCircuit, QuantumRegister\n",
    "from qiskit.aqua.components.initial_states import Custom\n",
    "n_qubits = 3\n",
    "state_prep = Custom(n_qubits, state='random')\n",
    "qreg = QuantumRegister(n_qubits)\n",
    "state_prep_circ = state_prep.construct_circuit('circuit', qreg)\n",
    "print(state_prep_circ)"
   ]
  },
  {
   "cell_type": "markdown",
   "metadata": {},
   "source": [
    "We can now evolve this state under an operator for a given duration."
   ]
  },
  {
   "cell_type": "code",
   "execution_count": 2,
   "metadata": {},
   "outputs": [
    {
     "name": "stdout",
     "output_type": "stream",
     "text": [
      "                                                            »\n",
      "q0_0: |0>──■────────────────────────────────────■───────────»\n",
      "         ┌─┴─┐                                ┌─┴─┐         »\n",
      "q0_1: |0>┤ X ├──■─────────────────■───────────┤ X ├─────────»\n",
      "         └───┘┌─┴─┐┌───────────┐┌─┴─┐┌────────┴───┴────────┐»\n",
      "q0_2: |0>─────┤ X ├┤ U1(-0.96) ├┤ X ├┤ U3(pi/2,-pi/2,pi/2) ├»\n",
      "              └───┘└───────────┘└───┘└─────────────────────┘»\n",
      "«                                                                          »\n",
      "«q0_0: ────────────────────────────────────────────────────────────────────»\n",
      "«      ┌─────────────────────┐                     ┌──────────────────────┐»\n",
      "«q0_1: ┤ U3(pi/2,-pi/2,pi/2) ├──■───────────────■──┤ U3(-pi/2,-pi/2,pi/2) ├»\n",
      "«      └─────────────────────┘┌─┴─┐┌─────────┐┌─┴─┐├──────────────────────┤»\n",
      "«q0_2: ───────────────────────┤ X ├┤ U1(1.2) ├┤ X ├┤ U3(-pi/2,-pi/2,pi/2) ├»\n",
      "«                             └───┘└─────────┘└───┘└──────────────────────┘»\n",
      "«                                                     ░ \n",
      "«q0_0: ───────────────────────────────────────────────░─\n",
      "«      ┌──────────┐                      ┌──────────┐ ░ \n",
      "«q0_1: ┤ U2(0,pi) ├──■────────────────■──┤ U2(0,pi) ├─░─\n",
      "«      ├──────────┤┌─┴─┐┌──────────┐┌─┴─┐├──────────┤ ░ \n",
      "«q0_2: ┤ U2(0,pi) ├┤ X ├┤ U1(0.72) ├┤ X ├┤ U2(0,pi) ├─░─\n",
      "«      └──────────┘└───┘└──────────┘└───┘└──────────┘ ░ \n"
     ]
    }
   ],
   "source": [
    "from qiskit.aqua.operators import WeightedPauliOperator\n",
    "from qiskit.quantum_info import Pauli\n",
    "duration = 1.2\n",
    "paulis = list(map(Pauli.from_label, ['XXI', 'YYI', 'ZZZ']))\n",
    "weights = [0.3, 0.5 + 1j*0.2, -0.4]\n",
    "op = WeightedPauliOperator.from_list(paulis, weights)\n",
    "evolution_circ = op.evolve(None, duration, num_time_slices=1, quantum_registers=qreg)\n",
    "print(evolution_circ)\n",
    "\n",
    "state_prep_circ += evolution_circ"
   ]
  },
  {
   "cell_type": "markdown",
   "metadata": {},
   "source": [
    "Now that we have a circuit, `pytket` can take this and start operating on it directly. For example, we can apply some basic compilation passes to simplify it."
   ]
  },
  {
   "cell_type": "code",
   "execution_count": 3,
   "metadata": {},
   "outputs": [
    {
     "name": "stdout",
     "output_type": "stream",
     "text": [
      "                ┌─────────────────────┐            »\n",
      "q0_0: |0>───────┤ U3(1.0*pi,0,1.0*pi) ├────────────»\n",
      "              ┌─┴─────────────────────┴──┐         »\n",
      "q0_1: |0>─────┤ U3(0.5*pi,1.5*pi,0.5*pi) ├──────■──»\n",
      "         ┌────┴──────────────────────────┴───┐┌─┴─┐»\n",
      "q0_2: |0>┤ U3(0.308490894130434*pi,0.5*pi,0) ├┤ X ├»\n",
      "         └───────────────────────────────────┘└───┘»\n",
      "«                                                   »\n",
      "«q0_0: ─────────────────────────────────────────────»\n",
      "«              ┌─────────────────────┐         ┌───┐»\n",
      "«q0_1: ────────┤ U3(0.5*pi,0,0.5*pi) ├─────────┤ X ├»\n",
      "«      ┌───────┴─────────────────────┴────────┐└─┬─┘»\n",
      "«q0_2: ┤ U3(0.5*pi,1.5*pi,1.8168581419693*pi) ├──■──»\n",
      "«      └──────────────────────────────────────┘     »\n",
      "«                                           ┌───┐»\n",
      "«q0_0: ─────────────────────────────────────┤ X ├»\n",
      "«      ┌───────────────────────────────────┐└─┬─┘»\n",
      "«q0_1: ┤ U3(0.449044192973681*pi,0,1.5*pi) ├──┼──»\n",
      "«      └────┬──────────────────────────┬───┘  │  »\n",
      "«q0_2: ─────┤ U3(0.5*pi,1.5*pi,0.5*pi) ├──────■──»\n",
      "«           └──────────────────────────┘         »\n",
      "«      ┌───────────────────────────────────┐┌───┐»\n",
      "«q0_0: ┤ U3(0.935138497481912*pi,0,1.0*pi) ├┤ X ├»\n",
      "«      └───────────────────────────────────┘└─┬─┘»\n",
      "«q0_1: ───────────────────────────────────────■──»\n",
      "«                                                »\n",
      "«q0_2: ──────────────────────────────────────────»\n",
      "«                                                »\n",
      "«      ┌───────────────────────────────────┐┌───┐»\n",
      "«q0_0: ┤ U3(0.956763670890248*pi,0,1.0*pi) ├┤ X ├»\n",
      "«      └───────────────────────────────────┘└─┬─┘»\n",
      "«q0_1: ───────────────────────────────────────┼──»\n",
      "«                                             │  »\n",
      "«q0_2: ───────────────────────────────────────■──»\n",
      "«                                                »\n",
      "«      ┌───────────────────────────────────┐┌───┐»\n",
      "«q0_0: ┤ U3(0.830448816678872*pi,0,1.0*pi) ├┤ X ├»\n",
      "«      └───────────────────────────────────┘└─┬─┘»\n",
      "«q0_1: ───────────────────────────────────────■──»\n",
      "«                                                »\n",
      "«q0_2: ──────────────────────────────────────────»\n",
      "«                                                »\n",
      "«      ┌──────────────────────────────────┐          »\n",
      "«q0_0: ┤ U3(1.72123255542654*pi,0,1.0*pi) ├──■───────»\n",
      "«      └──────────────────────────────────┘┌─┴─┐     »\n",
      "«q0_1: ────────────────────────────────────┤ X ├──■──»\n",
      "«                                          └───┘┌─┴─┐»\n",
      "«q0_2: ─────────────────────────────────────────┤ X ├»\n",
      "«                                               └───┘»\n",
      "«                                                     »\n",
      "«q0_0: ───────────────────────────────────────────────»\n",
      "«                                                     »\n",
      "«q0_1: ────────────────────────────────────────────■──»\n",
      "«      ┌────────────────────────────────────────┐┌─┴─┐»\n",
      "«q0_2: ┤ U3(0.5*pi,0.5*pi,0.194422509263561*pi) ├┤ X ├»\n",
      "«      └────────────────────────────────────────┘└───┘»\n",
      "«                                            »\n",
      "«q0_0: ──────────────────────────────■───────»\n",
      "«      ┌──────────────────────────┐┌─┴─┐┌───┐»\n",
      "«q0_1: ┤ U3(0.5*pi,1.5*pi,0.5*pi) ├┤ X ├┤ X ├»\n",
      "«      └──────┬────────────┬──────┘└───┘└─┬─┘»\n",
      "«q0_2: ───────┤ U1(0.5*pi) ├──────────────■──»\n",
      "«             └────────────┘                 »\n",
      "«                                                                        ░ \n",
      "«q0_0: ──────────────────────────────────────────────────────────────────░─\n",
      "«      ┌───────────────────────────────────┐     ┌─────────────────────┐ ░ \n",
      "«q0_1: ┤ U3(1.5*pi,0,0.618028136579451*pi) ├──■──┤ U3(0.5*pi,0,0.5*pi) ├─░─\n",
      "«      └┬──────────────────────────────────┤┌─┴─┐└────┬────────────┬───┘ ░ \n",
      "«q0_2: ─┤ U3(1.27081688194767*pi,0,1.0*pi) ├┤ X ├─────┤ U1(0.5*pi) ├─────░─\n",
      "«       └──────────────────────────────────┘└───┘     └────────────┘     ░ \n"
     ]
    },
    {
     "name": "stderr",
     "output_type": "stream",
     "text": [
      "/anaconda3/envs/tket/lib/python3.6/site-packages/qiskit/circuit/instruction.py:361: UserWarning: The instruction attribute, \"control\", will be renamed to \"condition\". The \"control\" method will later be used to create quantum controlled gates\n",
      "  warnings.warn('The instruction attribute, \"control\", will be renamed '\n"
     ]
    }
   ],
   "source": [
    "from pytket.qiskit import qiskit_to_tk, tk_to_qiskit\n",
    "tk_circ = qiskit_to_tk(state_prep_circ)\n",
    "\n",
    "from pytket.passes import SequencePass, gen_clifford_simp_pass, KAKDecomposition, SynthesiseIBM\n",
    "optimise = SequencePass([KAKDecomposition(), gen_clifford_simp_pass(False), SynthesiseIBM()])\n",
    "optimise.apply(tk_circ)\n",
    "\n",
    "# Display the optimised circuit\n",
    "print(tk_to_qiskit(tk_circ))"
   ]
  },
  {
   "cell_type": "markdown",
   "metadata": {},
   "source": [
    "The Backends in `pytket` abstract away the differences between different devices and simulators as much as possible, allowing painless switching between them. The `pytket_pyquil` package provides two Backends: `ForestBackend` encapsulates both running on physical devices via Rigetti QCS and simulating those devices on the QVM, and `ForestStateBackend` acts as a wrapper to the pyQuil Wavefunction Simulator.\n",
    "\n",
    "Both of these still have a few restrictions on the circuits that can be run. Each only supports a subset of the gate types available in `pytket`, and a real device or associated simulation will have restricted qubit connectivity. The Backend objects will contain a default compilation pass that will statisfy these constraints as much as possible, with minimal or no optimisation.\n",
    "\n",
    "The `ForestStateBackend` will allow us to view the full statevector (wavefunction) expected from a perfect execution of the circuit."
   ]
  },
  {
   "cell_type": "code",
   "execution_count": 4,
   "metadata": {},
   "outputs": [
    {
     "name": "stdout",
     "output_type": "stream",
     "text": [
      "[ 0.30229541-0.36355084j -0.38683087+0.09624487j -0.24345361-0.17915711j\n",
      "  0.28947554-0.31116425j -0.24267159-0.4961894j  -0.04617467-0.08626995j\n",
      " -0.04381319-0.08658059j  0.0936629 -0.11271341j]\n"
     ]
    }
   ],
   "source": [
    "from pytket.backends.forest import ForestStateBackend\n",
    "\n",
    "state_backend = ForestStateBackend()\n",
    "state_backend.compile_circuit(tk_circ)\n",
    "\n",
    "state = state_backend.get_state(tk_circ)\n",
    "print(state)"
   ]
  },
  {
   "cell_type": "markdown",
   "metadata": {},
   "source": [
    "For users who are familiar with the Forest SDK, the association of qubits to indices of bitstrings (and consequently the ordering of statevectors) used by default in `pytket` Backends differs from that described in the [Forest docs](http://docs.rigetti.com/en/stable/wavefunction_simulator.html#multi-qubit-basis-enumeration). You can recover the ordering used by the Forest systems with `state_backend.get_state(tk_circ, basis:pytket.BasisOrder.dlo)` (see our docs on the `BasisOrder` enum for more details)."
   ]
  },
  {
   "cell_type": "markdown",
   "metadata": {},
   "source": [
    "Connecting to real devices works very similarly. Instead of obtaining the full statevector, we are only able to measure the quantum state and sample from the resulting distribution. Beyond that, the process is pretty much the same.\n",
    "\n",
    "The following shows how to run the circuit on the \"Aspen-4-4Q-A\" lattice. The `simulator` switch on the `ForestBackend` will switch between connecting to the real Aspen device and the QVM, allowing you to test your code with a simulator before you reserve your slot with the device."
   ]
  },
  {
   "cell_type": "code",
   "execution_count": 5,
   "metadata": {},
   "outputs": [
    {
     "name": "stdout",
     "output_type": "stream",
     "text": [
      "{(0, 0, 0): 667, (0, 0, 1): 285, (0, 1, 0): 173, (0, 1, 1): 385, (1, 0, 0): 398, (1, 0, 1): 26, (1, 1, 0): 28, (1, 1, 1): 38}\n"
     ]
    }
   ],
   "source": [
    "tk_circ.measure_all()\n",
    "\n",
    "from pytket.backends.forest import ForestBackend\n",
    "\n",
    "aspen_backend = ForestBackend(\"Aspen-4-4Q-A\", simulator=True)\n",
    "aspen_backend.compile_circuit(tk_circ)\n",
    "\n",
    "counts = aspen_backend.get_counts(tk_circ, 2000)\n",
    "print(counts)"
   ]
  },
  {
   "cell_type": "markdown",
   "metadata": {},
   "source": [
    "Note that attempting to connect to a live quantum device (using a `ForestBackend` with `as_simulator=False`) will fail unless it is running from a QMI instance during a reservation for the named lattice."
   ]
  }
 ],
 "metadata": {
  "kernelspec": {
   "display_name": "Python 3",
   "language": "python",
   "name": "python3"
  },
  "language_info": {
   "codemirror_mode": {
    "name": "ipython",
    "version": 3
   },
   "file_extension": ".py",
   "mimetype": "text/x-python",
   "name": "python",
   "nbconvert_exporter": "python",
   "pygments_lexer": "ipython3",
   "version": "3.6.8"
  }
 },
 "nbformat": 4,
 "nbformat_minor": 2
}
