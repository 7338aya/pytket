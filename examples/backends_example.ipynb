{
 "cells": [
  {
   "cell_type": "markdown",
   "metadata": {},
   "source": [
    "# Backends: t|ket> example"
   ]
  },
  {
   "cell_type": "markdown",
   "metadata": {},
   "source": [
    "This example shows how to use `pytket` to execute quantum circuits on both simulators and real devices, and how to interpret the results. As t|ket> is designed to be platform-agnostic, we have unified the interfaces of different providers as much as possible into the `Backend` class for maximum portability of code. Currently, the following are supported:\n",
    "\n",
    "* ProjectQ simulator\n",
    "* Aer simulators (statevector, QASM, and unitary)\n",
    "* IBMQ devices\n",
    "* Rigetti QCS devices\n",
    "* Rigetti QVM (for device simulation or statevector)\n",
    "\n",
    "Our Rigetti example introduces the Rigetti backends, so we will focus on the others here.\n",
    "\n",
    "To get started, we must install core pytket and the subpackages required to interface with the two providers:\n",
    "\n",
    "```\n",
    "pip install pytket\n",
    "pip install pytket_qiskit\n",
    "pip install pytket_projectq\n",
    "```\n",
    "\n",
    "First, import the backends that we will be demonstrating."
   ]
  },
  {
   "cell_type": "code",
   "execution_count": 1,
   "metadata": {},
   "outputs": [],
   "source": [
    "from pytket.backends.ibm import AerStateBackend, AerBackend, AerUnitaryBackend, IBMQBackend\n",
    "from pytket.backends.projectq import ProjectQBackend"
   ]
  },
  {
   "cell_type": "markdown",
   "metadata": {},
   "source": [
    "We are also going to be making a circuit to run on these backends, so import the `Circuit` class."
   ]
  },
  {
   "cell_type": "code",
   "execution_count": 2,
   "metadata": {},
   "outputs": [],
   "source": [
    "from pytket import Circuit"
   ]
  },
  {
   "cell_type": "markdown",
   "metadata": {},
   "source": [
    "Below we generate a circuit which will produce a Bell state, assuming the qubits are all initialised in the |0> state:"
   ]
  },
  {
   "cell_type": "code",
   "execution_count": 3,
   "metadata": {},
   "outputs": [
    {
     "data": {
      "text/plain": [
       "<tket::Circuit qubits=2, gates=2>"
      ]
     },
     "execution_count": 3,
     "metadata": {},
     "output_type": "execute_result"
    }
   ],
   "source": [
    "circ = Circuit(2)\n",
    "circ.H(0)\n",
    "circ.CX(0,1)"
   ]
  },
  {
   "cell_type": "markdown",
   "metadata": {},
   "source": [
    "As a sanity check, we will use the `AerStateBackend` to verify that `circ` does actually produce a Bell state.\n",
    "\n",
    "Calling `get_state` on a backend will execute the circuit and return a `numpy` array corresponding to the statevector. This style of usage is used consistently in the `pytket` backends."
   ]
  },
  {
   "cell_type": "code",
   "execution_count": 4,
   "metadata": {},
   "outputs": [
    {
     "name": "stdout",
     "output_type": "stream",
     "text": [
      "[0.70710678+0.j 0.        +0.j 0.        +0.j 0.70710678+0.j]\n"
     ]
    }
   ],
   "source": [
    "aer_state_b = AerStateBackend()\n",
    "statevector = aer_state_b.get_state(circ)\n",
    "print(statevector)"
   ]
  },
  {
   "cell_type": "markdown",
   "metadata": {},
   "source": [
    "As we can see, the output state vector $\\lvert \\psi_{\\mathrm{circ}}\\rangle$ is $(\\lvert00\\rangle + \\lvert11\\rangle)/\\sqrt2$.\n",
    "\n",
    "This is a symmetric state. For non-symmetric states, we default to an ILO-BE format (increasing lexicographic order of (qu)bit ids, big-endian), but an alternative convention can be specified when retrieving results from backends. See the docs for the `BasisOrder` enum for more information."
   ]
  },
  {
   "cell_type": "markdown",
   "metadata": {},
   "source": [
    "A lesser-used simulator available through Qiskit Aer is their unitary simulator. This will be somewhat more expensive to run, but returns the full unitary matrix for the provided circuit. This is useful in the design of small subcircuits that will be used multiple times within other larger circuits - statevector simulators will only test that they act correctly on the $\\lvert 0 \\rangle^{\\otimes n}$ state, which is not enough to guarantee the circuit's correctness.\n",
    "\n",
    "The `AerUnitaryBackend` provides a convenient access point for this simulator for use with `pytket` circuits."
   ]
  },
  {
   "cell_type": "code",
   "execution_count": 5,
   "metadata": {},
   "outputs": [
    {
     "name": "stdout",
     "output_type": "stream",
     "text": [
      "[[ 0.70710678+0.j  0.        +0.j  0.70710678+0.j  0.        +0.j]\n",
      " [ 0.        +0.j  0.70710678+0.j  0.        +0.j  0.70710678+0.j]\n",
      " [ 0.        +0.j  0.70710678+0.j  0.        +0.j -0.70710678+0.j]\n",
      " [ 0.70710678+0.j  0.        +0.j -0.70710678+0.j  0.        +0.j]]\n"
     ]
    }
   ],
   "source": [
    "aer_unitary_b = AerUnitaryBackend()\n",
    "print(aer_unitary_b.get_unitary(circ))"
   ]
  },
  {
   "cell_type": "markdown",
   "metadata": {},
   "source": [
    "Now suppose we want to measure this Bell state to get some actual results out, so let's append some `Measure` gates to the circuit. The `Circuit` class has the `measure_all` utility function which appends `Measure` gates on every qubit. All of these results will be written to the default classical register ('c'). This function will automatically add the classical bits to the circuit if they are not already there."
   ]
  },
  {
   "cell_type": "code",
   "execution_count": 6,
   "metadata": {},
   "outputs": [
    {
     "data": {
      "text/plain": [
       "<tket::Circuit qubits=2, gates=4>"
      ]
     },
     "execution_count": 6,
     "metadata": {},
     "output_type": "execute_result"
    }
   ],
   "source": [
    "circ.measure_all()"
   ]
  },
  {
   "cell_type": "markdown",
   "metadata": {},
   "source": [
    "We can get some shots out from the `AerBackend`, which is an interface to the Qiskit Aer QASM simulator. Suppose we would like to get 10 shots out. We can seed the simulator's random-number generator in order to make the results reproducible."
   ]
  },
  {
   "cell_type": "code",
   "execution_count": 7,
   "metadata": {},
   "outputs": [
    {
     "name": "stdout",
     "output_type": "stream",
     "text": [
      "[[1 1]\n",
      " [0 0]\n",
      " [1 1]\n",
      " [0 0]\n",
      " [0 0]\n",
      " [1 1]\n",
      " [0 0]\n",
      " [0 0]\n",
      " [0 0]\n",
      " [1 1]]\n"
     ]
    }
   ],
   "source": [
    "aer_b = AerBackend()\n",
    "shots = aer_b.get_shots(circuit=circ, n_shots=10, seed=1)\n",
    "print(shots)"
   ]
  },
  {
   "cell_type": "markdown",
   "metadata": {},
   "source": [
    "Shot tables are just numpy arrays where each row gives the final readout for each circuit run, and each column represents one of the classical bits in the circuit (ordered right-to-left to fit the little-endian convention, so the row `[1 0]` means bit 0 had value 0, and bit 1 had value 1).\n",
    "\n",
    "In this case there is a 40/60 split between $00$ and $11$ results. If we change the seed, or remove it, we will get varying results according to the pseudo-random number generation internal to Qiskit's QASM simulator.\n",
    "\n",
    "What happens if we simulate some noise in our imagined device, using the Qiskit Aer noise model?"
   ]
  },
  {
   "cell_type": "markdown",
   "metadata": {},
   "source": [
    "To investigate this, we will require an import from Qiskit. For more information about noise modelling using Qiskit Aer, see the [Qiskit device noise simulation](https://qiskit.org/documentation/aer/device_noise_simulation.html) documentation."
   ]
  },
  {
   "cell_type": "code",
   "execution_count": 8,
   "metadata": {},
   "outputs": [],
   "source": [
    "from qiskit.providers.aer.noise import NoiseModel\n",
    "my_noise_model = NoiseModel()\n",
    "readout_error = 0.2\n",
    "my_noise_model.add_all_qubit_readout_error([[1-readout_error, readout_error], [readout_error, 1-readout_error]])"
   ]
  },
  {
   "cell_type": "markdown",
   "metadata": {},
   "source": [
    "This simple noise model gives a 20% chance that, upon measurement, a qubit that would otherwise have been measured as $0$ would instead be measured as $1$, and vice versa. Let's see what our shot table looks like with this model:"
   ]
  },
  {
   "cell_type": "code",
   "execution_count": 9,
   "metadata": {},
   "outputs": [
    {
     "name": "stdout",
     "output_type": "stream",
     "text": [
      "[[1 1]\n",
      " [0 0]\n",
      " [1 1]\n",
      " [1 0]\n",
      " [0 0]\n",
      " [1 1]\n",
      " [0 0]\n",
      " [0 0]\n",
      " [0 0]\n",
      " [0 1]]\n"
     ]
    }
   ],
   "source": [
    "noisy_aer_b = AerBackend(my_noise_model)\n",
    "noisy_shots = noisy_aer_b.get_shots(circuit=circ, n_shots=10, seed=1)\n",
    "print(noisy_shots)"
   ]
  },
  {
   "cell_type": "markdown",
   "metadata": {},
   "source": [
    "We now have some spurious $01$ and $10$ measurements, which could never happen when measuring a Bell state on a noiseless device. \n",
    "\n",
    "The `AerBackend` class can accept any Qiskit noise model."
   ]
  },
  {
   "cell_type": "markdown",
   "metadata": {},
   "source": [
    "Suppose that we don't need the full shot table, but just want a summary of the results. The most common summary is the counts map, mapping the readout state to the number of times it was observed.\n",
    "\n",
    "Some backends have direct support for this via the `get_counts` method, returning the counts map immediately. If we already have the shot table, `pytket` provides a quick utility function to summarise the table."
   ]
  },
  {
   "cell_type": "code",
   "execution_count": 10,
   "metadata": {},
   "outputs": [
    {
     "name": "stdout",
     "output_type": "stream",
     "text": [
      "{(0, 0): 5, (0, 1): 1, (1, 0): 1, (1, 1): 3}\n"
     ]
    }
   ],
   "source": [
    "from pytket.utils import counts_from_shot_table\n",
    "print(counts_from_shot_table(noisy_shots))"
   ]
  },
  {
   "cell_type": "markdown",
   "metadata": {},
   "source": [
    "The last simulator we will demonstrate is the `ProjectQBackend`. ProjectQ offers fast simulation of quantum circuits with built-in support for fast expectation values from operators. The `ProjectQBackend` exposes this functionality to take in OpenFermion `QubitOperator` instances.\n",
    "\n",
    "Note: ProjectQ can also produce shots in the style of `AerBackend`, using the same method, but cannot accept a noise model.\n",
    "\n",
    "Let's create a `QubitOperator` object and a new circuit:"
   ]
  },
  {
   "cell_type": "code",
   "execution_count": 11,
   "metadata": {},
   "outputs": [],
   "source": [
    "from openfermion import QubitOperator\n",
    "\n",
    "hamiltonian = 0.5 * QubitOperator('X0 X2') + 0.3 * QubitOperator('Z0')"
   ]
  },
  {
   "cell_type": "code",
   "execution_count": 12,
   "metadata": {},
   "outputs": [
    {
     "data": {
      "text/plain": [
       "<tket::Circuit qubits=3, gates=3>"
      ]
     },
     "execution_count": 12,
     "metadata": {},
     "output_type": "execute_result"
    }
   ],
   "source": [
    "circ2 = Circuit(3)\n",
    "circ2.Y(0)\n",
    "circ2.H(1)\n",
    "circ2.Rx(0.3, 2)"
   ]
  },
  {
   "cell_type": "markdown",
   "metadata": {},
   "source": [
    "Now we can create a `ProjectQBackend` instance and feed it our circuit and `QubitOperator`:"
   ]
  },
  {
   "cell_type": "code",
   "execution_count": 13,
   "metadata": {},
   "outputs": [
    {
     "name": "stdout",
     "output_type": "stream",
     "text": [
      "-0.2999999999999999\n"
     ]
    }
   ],
   "source": [
    "projectq_b = ProjectQBackend()\n",
    "expectation = projectq_b.get_operator_expectation_value(circ2, hamiltonian)\n",
    "print(expectation)"
   ]
  },
  {
   "cell_type": "markdown",
   "metadata": {},
   "source": [
    "The last leg of this tour includes running a pytket circuit on an actual quantum computer. To do this, you will need an IBM quantum experience account and have your credentials stored on your computer. See https://quantum-computing.ibm.com to make an account and view available devices and their specs.\n",
    "\n",
    "Physical devices have much stronger constraints on the form of admissible circuits than simulators. They tend to support a minimal gate set, have restricted connectivity between qubits for two-qubit gates, and can have limited support for classical control flow or conditional gates. This is where we can invoke the t|ket> compiler passes to transform our desired circuit into one that is suitable for the backend.\n",
    "\n",
    "Let's create an `IBMQBackend` for the `ibmq_essex` device and check if our circuit is valid to be run."
   ]
  },
  {
   "cell_type": "code",
   "execution_count": 14,
   "metadata": {},
   "outputs": [
    {
     "data": {
      "text/plain": [
       "False"
      ]
     },
     "execution_count": 14,
     "metadata": {},
     "output_type": "execute_result"
    }
   ],
   "source": [
    "ibmq_b = IBMQBackend('ibmq_essex')\n",
    "ibmq_b.valid_circuit(circ)"
   ]
  },
  {
   "cell_type": "markdown",
   "metadata": {},
   "source": [
    "It looks like we need to compile this circuit to be compatible with the device. To simplify this procedure, we provide a minimal compilation pass designed for each backend (the `default_compilation_pass` property) which will guarantee compatibility with the device. These may still fail if the input circuit has too many qubits or unsupported usage of conditional gates. The default passes will typically do very little in the way of circuit optimisation, but they can be easily composed with any of t|ket>'s other optimisation passes for better performance.\n",
    "\n",
    "For convenience, we also wrap up this pass into the `compile_circuit` method if you just want to compile a single circuit."
   ]
  },
  {
   "cell_type": "code",
   "execution_count": 15,
   "metadata": {},
   "outputs": [
    {
     "data": {
      "text/plain": [
       "True"
      ]
     },
     "execution_count": 15,
     "metadata": {},
     "output_type": "execute_result"
    }
   ],
   "source": [
    "ibmq_b.compile_circuit(circ)\n",
    "ibmq_b.valid_circuit(circ)"
   ]
  },
  {
   "cell_type": "markdown",
   "metadata": {},
   "source": [
    "We are now good to run this circuit on the device."
   ]
  },
  {
   "cell_type": "code",
   "execution_count": 16,
   "metadata": {},
   "outputs": [
    {
     "name": "stdout",
     "output_type": "stream",
     "text": [
      "Job Status: job has successfully run\n",
      "[[1 1]\n",
      " [1 1]\n",
      " [1 1]\n",
      " [1 1]\n",
      " [0 0]\n",
      " [1 1]\n",
      " [0 0]\n",
      " [1 0]\n",
      " [0 0]\n",
      " [1 1]]\n"
     ]
    }
   ],
   "source": [
    "quantum_shots = ibmq_b.get_shots(circuit=circ, n_shots=10)\n",
    "print(quantum_shots)"
   ]
  },
  {
   "cell_type": "markdown",
   "metadata": {},
   "source": [
    "These are from an actual device, so it's impossible to perfectly predict what the results will be. However, because of the problem of noise, it would be unsurprising to find a few $01$ or $10$ results in the table. The circuit is very short, so it should be fairly close to the ideal result.\n",
    "\n",
    "The devices available through the IBM Q Experience serve jobs one at a time from their respective queues, so a large amount of experiment time can be taken up by waiting for your jobs to reach the front of the queue. `pytket` allows circuits to be submitted to any backend in a single batch using the `process_circuits` method. For the `IBMQBackend`, this will collate the circuits into as few jobs as possible which will all be sent off into the queue for the device. Any results will be cached in the backend object until they are retrieved. The `get_(shots/counts/state/unitary)` method will return any cached results for the circuit if they are available (blocking the process if the evaluation is in progress), and will otherwise submit the circuit for evaluation."
   ]
  },
  {
   "cell_type": "code",
   "execution_count": 17,
   "metadata": {},
   "outputs": [],
   "source": [
    "circuits = []\n",
    "for i in range(5):\n",
    "    c = Circuit(2)\n",
    "    c.Rx(0.2*i,0).CX(0,1)\n",
    "    c.measure_all()\n",
    "    ibmq_b.compile_circuit(c)\n",
    "    circuits.append(c)\n",
    "ibmq_b.process_circuits(circuits, n_shots=100)"
   ]
  },
  {
   "cell_type": "markdown",
   "metadata": {},
   "source": [
    "We can now retrieve the results and process them. As we measured each circuit in the $Z$-basis, we can obtain the expectation value for the $ZZ$ operator immediately from these measurement results. We can calculate this using the `expectation_value_from_shots` utility method in `pytket`."
   ]
  },
  {
   "cell_type": "code",
   "execution_count": 18,
   "metadata": {},
   "outputs": [
    {
     "name": "stdout",
     "output_type": "stream",
     "text": [
      "Job Status: job has successfully run\n",
      "-0.8400000000000001\n",
      "Job Status: job has successfully run\n",
      "-0.8600000000000001\n",
      "Job Status: job has successfully run\n",
      "-0.78\n",
      "Job Status: job has successfully run\n",
      "-0.72\n",
      "Job Status: job has successfully run\n",
      "-0.74\n"
     ]
    }
   ],
   "source": [
    "from pytket.utils import expectation_from_shots\n",
    "for c in circuits:\n",
    "    shots = ibmq_b.get_shots(c)\n",
    "    exp_val = expectation_from_shots(shots)\n",
    "    print(exp_val)"
   ]
  },
  {
   "cell_type": "markdown",
   "metadata": {},
   "source": [
    "The backends in `pytket` are designed to be as similar to one another as possible. The example above using physical devices can be run entirely on a simulator by swapping out the `IBMQBackend` constructor for any other backend supporting shot outputs (`AerBackend`, `ProjectQBackend`, `ForestBackend`, or passing it the name of a different device) and it is simple to convert between handling shot tables, counts maps, and statevectors.\n",
    "\n",
    "For more information on backends and other `pytket` features, read our [documentation](https://cqcl.github.io/pytket) or see the other examples on our [GitHub repo](https://github.com/CQCL/pytket)."
   ]
  }
 ],
 "metadata": {
  "kernelspec": {
   "display_name": "Python 3",
   "language": "python",
   "name": "python3"
  },
  "language_info": {
   "codemirror_mode": {
    "name": "ipython",
    "version": 3
   },
   "file_extension": ".py",
   "mimetype": "text/x-python",
   "name": "python",
   "nbconvert_exporter": "python",
   "pygments_lexer": "ipython3",
   "version": "3.7.5"
  }
 },
 "nbformat": 4,
 "nbformat_minor": 2
}
