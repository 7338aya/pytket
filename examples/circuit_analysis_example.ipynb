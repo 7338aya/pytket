{
 "cells": [
  {
   "cell_type": "markdown",
   "metadata": {},
   "source": [
    "# Circuit analysis: t|ket> example\n",
    "\n",
    "This notebook will introduce the basic methods of analysis and visualization of circuits available in `pytket`.\n",
    "\n",
    "It makes use of the modules `pytket_qiskit` and `pytket_cirq` for visualization; these need to be installed (with `pip`) in addition to `pytket`.\n",
    "\n",
    "We'll start by generating a small circuit to use as an example."
   ]
  },
  {
   "cell_type": "code",
   "execution_count": 1,
   "metadata": {},
   "outputs": [
    {
     "data": {
      "text/plain": [
       "[CRz(0.5*PI) q[0], q[1]; Y q[2]; Z q[3]; H q[0]; X q[1]; H q[3]; X q[0]; CX q[1], q[2]; Y q[0]; Y q[1]; Z q[2]; Z q[0]; Z q[1]; CRz(0.5*PI) q[2], q[3]; H q[1]; H q[2]; X q[3]; X q[2]; Y q[3]; CX q[3], q[0]; ]"
      ]
     },
     "execution_count": 1,
     "metadata": {},
     "output_type": "execute_result"
    }
   ],
   "source": [
    "from pytket.circuit import Circuit\n",
    "\n",
    "c = Circuit(4)\n",
    "c.CRz(0.5,0,1).H(0).X(1).Y(2).Z(3)\n",
    "c.X(0).CX(1,2).Y(1).Z(2).H(3)\n",
    "c.Y(0).Z(1).CRz(0.5,2,3).H(2).X(3)\n",
    "c.Z(0).H(1).X(2).Y(3).CX(3,0)"
   ]
  },
  {
   "cell_type": "markdown",
   "metadata": {},
   "source": [
    "## Basic statistics\n",
    "\n",
    "From the circuit we can easily read off the number of qubits ..."
   ]
  },
  {
   "cell_type": "code",
   "execution_count": 2,
   "metadata": {},
   "outputs": [
    {
     "data": {
      "text/plain": [
       "4"
      ]
     },
     "execution_count": 2,
     "metadata": {},
     "output_type": "execute_result"
    }
   ],
   "source": [
    "c.n_qubits"
   ]
  },
  {
   "cell_type": "markdown",
   "metadata": {},
   "source": [
    "... the overall depth of the circuit ..."
   ]
  },
  {
   "cell_type": "code",
   "execution_count": 3,
   "metadata": {},
   "outputs": [
    {
     "data": {
      "text/plain": [
       "8"
      ]
     },
     "execution_count": 3,
     "metadata": {},
     "output_type": "execute_result"
    }
   ],
   "source": [
    "c.depth()"
   ]
  },
  {
   "cell_type": "markdown",
   "metadata": {},
   "source": [
    "... and the depth by type of gate:"
   ]
  },
  {
   "cell_type": "code",
   "execution_count": 4,
   "metadata": {},
   "outputs": [
    {
     "data": {
      "text/plain": [
       "(2, 2)"
      ]
     },
     "execution_count": 4,
     "metadata": {},
     "output_type": "execute_result"
    }
   ],
   "source": [
    "from pytket.circuit import OpType\n",
    "\n",
    "c.depth_by_type(OpType.CRz), c.depth_by_type(OpType.H)"
   ]
  },
  {
   "cell_type": "markdown",
   "metadata": {},
   "source": [
    "This last method counts the number of instances of the specified gate type that cannot be parallelized. Notice that although there are 4 H gates in the circuit, the H-depth is 2 because pairs of them can be parallelized (as will be clear from the visualizations below)."
   ]
  },
  {
   "cell_type": "markdown",
   "metadata": {},
   "source": [
    "## Visualization\n",
    "\n",
    "There are several ways to produce useful visualizations of circuits from `pytket`: we can convert the circuit to either Qiskit or Cirq and use the tools provided by those modules; or we can export to Latex.\n",
    "\n",
    "### Via Qiskit\n",
    "\n"
   ]
  },
  {
   "cell_type": "code",
   "execution_count": 5,
   "metadata": {},
   "outputs": [
    {
     "name": "stdout",
     "output_type": "stream",
     "text": [
      "                 ┌───┐┌───┐┌───┐   ┌───┐              ┌───┐\n",
      "q_0: ─────■──────┤ H ├┤ X ├┤ Y ├───┤ Z ├──────────────┤ X ├\n",
      "     ┌────┴─────┐├───┤└───┘├───┤   ├───┤    ┌───┐     └─┬─┘\n",
      "q_1: ┤ Rz(pi/2) ├┤ X ├──■──┤ Y ├───┤ Z ├────┤ H ├───────┼──\n",
      "     └──┬───┬───┘└───┘┌─┴─┐├───┤   └───┘    ├───┤┌───┐  │  \n",
      "q_2: ───┤ Y ├─────────┤ X ├┤ Z ├─────■──────┤ H ├┤ X ├──┼──\n",
      "        ├───┤    ┌───┐└───┘└───┘┌────┴─────┐├───┤├───┤  │  \n",
      "q_3: ───┤ Z ├────┤ H ├──────────┤ Rz(pi/2) ├┤ X ├┤ Y ├──■──\n",
      "        └───┘    └───┘          └──────────┘└───┘└───┘     \n"
     ]
    }
   ],
   "source": [
    "from pytket.qiskit import tk_to_qiskit\n",
    "\n",
    "print(tk_to_qiskit(c))"
   ]
  },
  {
   "cell_type": "markdown",
   "metadata": {},
   "source": [
    "### Via Cirq"
   ]
  },
  {
   "cell_type": "code",
   "execution_count": 6,
   "metadata": {},
   "outputs": [
    {
     "name": "stdout",
     "output_type": "stream",
     "text": [
      "0: ───@───────H───X───Y───Z───────────────X───\n",
      "      │                                   │\n",
      "1: ───@^0.5───X───@───Y───Z───────H───────┼───\n",
      "                  │                       │\n",
      "2: ───Y───────────X───Z───@───────H───X───┼───\n",
      "                          │               │\n",
      "3: ───Z───────H───────────@^0.5───X───Y───@───\n"
     ]
    }
   ],
   "source": [
    "from pytket.cirq import tk_to_cirq\n",
    "\n",
    "print(tk_to_cirq(c))"
   ]
  },
  {
   "cell_type": "markdown",
   "metadata": {},
   "source": [
    "(Note that Cirq cannot represent all gates diagrammatically.)\n",
    "\n",
    "### Via Latex\n",
    "\n",
    "We can create a Latex document containing a diagram of the circuit using the `to_latex_file()` method. This uses the `quantikz` library. The document can be viewed on its own or the Latex can easily be copied and pasted into a larger document."
   ]
  },
  {
   "cell_type": "code",
   "execution_count": 7,
   "metadata": {},
   "outputs": [],
   "source": [
    "c.to_latex_file('c.tex')"
   ]
  },
  {
   "cell_type": "markdown",
   "metadata": {},
   "source": [
    "## Commands\n",
    "\n",
    "We can retrieve a list of operations comprising a circuit, each represented as a `Command` object:"
   ]
  },
  {
   "cell_type": "code",
   "execution_count": 8,
   "metadata": {},
   "outputs": [
    {
     "name": "stdout",
     "output_type": "stream",
     "text": [
      "[CRz(0.5*PI) q[0], q[1];, Y q[2];, Z q[3];, H q[0];, X q[1];, H q[3];, X q[0];, CX q[1], q[2];, Y q[0];, Y q[1];, Z q[2];, Z q[0];, Z q[1];, CRz(0.5*PI) q[2], q[3];, H q[1];, H q[2];, X q[3];, X q[2];, Y q[3];, CX q[3], q[0];]\n"
     ]
    }
   ],
   "source": [
    "cmds = c.get_commands()\n",
    "print(cmds)"
   ]
  },
  {
   "cell_type": "markdown",
   "metadata": {},
   "source": [
    "Each `Command` is defined by an operation and the qubits it operates on (as well as the classical bits and conditions, if any). For example:"
   ]
  },
  {
   "cell_type": "code",
   "execution_count": 9,
   "metadata": {},
   "outputs": [
    {
     "name": "stdout",
     "output_type": "stream",
     "text": [
      "CRz(0.5*PI)\n",
      "[q[0], q[1]]\n"
     ]
    }
   ],
   "source": [
    "cmd0 = cmds[0]\n",
    "op0 = cmd0.op\n",
    "print(op0)\n",
    "qubits0 = cmd0.args\n",
    "print(qubits0)"
   ]
  },
  {
   "cell_type": "markdown",
   "metadata": {},
   "source": [
    "From the `Op` we can read off the string representation (in normal or Latex form), the parameters and the type:"
   ]
  },
  {
   "cell_type": "code",
   "execution_count": 10,
   "metadata": {},
   "outputs": [
    {
     "data": {
      "text/plain": [
       "'CRz(0.5*PI)'"
      ]
     },
     "execution_count": 10,
     "metadata": {},
     "output_type": "execute_result"
    }
   ],
   "source": [
    "op0.get_name() # normal form"
   ]
  },
  {
   "cell_type": "code",
   "execution_count": 11,
   "metadata": {},
   "outputs": [
    {
     "data": {
      "text/plain": [
       "'\\\\text{CRz}(0.5\\\\cdot\\\\pi)'"
      ]
     },
     "execution_count": 11,
     "metadata": {},
     "output_type": "execute_result"
    }
   ],
   "source": [
    "op0.get_name(latex=True) # Latex form"
   ]
  },
  {
   "cell_type": "code",
   "execution_count": 12,
   "metadata": {},
   "outputs": [
    {
     "data": {
      "text/plain": [
       "(OpType.CRz, [0.5])"
      ]
     },
     "execution_count": 12,
     "metadata": {},
     "output_type": "execute_result"
    }
   ],
   "source": [
    "op0.type, op0.params"
   ]
  },
  {
   "cell_type": "markdown",
   "metadata": {},
   "source": [
    "Note that some compilation passes introduce implicit wire swaps at the end of the circuit, which are not represented in the command list. (The internal representation of the circuit as a directed acyclic graph reduces explicit permutations of qubits to implicit features of the graph.) "
   ]
  }
 ],
 "metadata": {
  "kernelspec": {
   "display_name": "Python 3",
   "language": "python",
   "name": "python3"
  },
  "language_info": {
   "codemirror_mode": {
    "name": "ipython",
    "version": 3
   },
   "file_extension": ".py",
   "mimetype": "text/x-python",
   "name": "python",
   "nbconvert_exporter": "python",
   "pygments_lexer": "ipython3",
   "version": "3.7.7"
  }
 },
 "nbformat": 4,
 "nbformat_minor": 2
}
