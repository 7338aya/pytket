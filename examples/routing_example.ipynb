{
 "cells": [
  {
   "cell_type": "markdown",
   "metadata": {},
   "source": [
    "# Cirq - t|ket> routing example"
   ]
  },
  {
   "cell_type": "markdown",
   "metadata": {},
   "source": [
    "First import cirq and required classes and functions from t|ket>.\n",
    "`SquareGrid` is the t|ket> class representing a rectangular grid of qubits, with qubits indexed continuously from (0,0), e.g. for a 3x3 grid, the indexing is: \n",
    "\n",
    "0 1 2 <br>\n",
    "3 4 5 <br>\n",
    "6 7 8\n",
    "\n",
    "`SquareGrid` can be used to generate XmonDevice objects corresponding to rectangular grids. \n",
    "\n",
    "`route_circuit_xmon` will take our circuit and return a circuit routed on the provided XmonDevice. Routing involves optimally adding swap commands such that the necessary 2-qubit interactions only take place between nearest-neighbour qubits (as is normally the case with superconducting qubits). <br>\n",
    "\n",
    "`get_grid_qubits` is a helper function to return a list of cirq.GridQubit which correspond to a list of provided indices on the given SquareGrid."
   ]
  },
  {
   "cell_type": "code",
   "execution_count": 10,
   "metadata": {},
   "outputs": [],
   "source": [
    "import cirq\n",
    "\n",
    "from pytket import SquareGrid, route_circuit_xmon\n",
    "from pytket.cirq_convert import get_grid_qubits"
   ]
  },
  {
   "cell_type": "markdown",
   "metadata": {},
   "source": [
    "Let's initialize a 3x3 grid and get the corresponding 9 qubits. We can use these to generate a matching XmonDevice (we don't need to set gate durations for our purposes). "
   ]
  },
  {
   "cell_type": "code",
   "execution_count": 11,
   "metadata": {},
   "outputs": [],
   "source": [
    "arc = SquareGrid(3, 3)\n",
    "qubits = get_grid_qubits(arc, range(9))\n",
    "from cirq.value import Duration\n",
    "from cirq.google import XmonDevice\n",
    "device = XmonDevice(Duration(nanos=0), Duration(nanos=0),\n",
    "                        Duration(nanos=0), qubits=qubits)"
   ]
  },
  {
   "cell_type": "markdown",
   "metadata": {},
   "source": [
    "Generate an arbitrary sample circuit. See the [readme](https://github.com/CQCL/pytket/blob/master/README.md) for currently supported gates, more added soon!"
   ]
  },
  {
   "cell_type": "code",
   "execution_count": 12,
   "metadata": {},
   "outputs": [
    {
     "data": {
      "text/html": [
       "<pre style=\"overflow: auto; white-space: pre;\">(0, 0): ───H───@───────────────────────────\n",
       "               │\n",
       "(0, 1): ───X───┼───────────────────────────\n",
       "               │\n",
       "(0, 2): ───────┼───Y───@───────────────────\n",
       "               │       │\n",
       "(1, 0): ───────┼───────┼───@───Y───@───────\n",
       "               │       │   │       │\n",
       "(1, 1): ───────X───────X───X───────┼───Z───\n",
       "                                   │\n",
       "(1, 2): ───────────────────────────X───────</pre>"
      ],
      "text/plain": [
       "(0, 0): ───H───@───────────────────────────\n",
       "               │\n",
       "(0, 1): ───X───┼───────────────────────────\n",
       "               │\n",
       "(0, 2): ───────┼───Y───@───────────────────\n",
       "               │       │\n",
       "(1, 0): ───────┼───────┼───@───Y───@───────\n",
       "               │       │   │       │\n",
       "(1, 1): ───────X───────X───X───────┼───Z───\n",
       "                                   │\n",
       "(1, 2): ───────────────────────────X───────"
      ]
     },
     "execution_count": 12,
     "metadata": {},
     "output_type": "execute_result"
    }
   ],
   "source": [
    "circuit = cirq.Circuit.from_ops(\n",
    "        cirq.H(qubits[0]),\n",
    "        cirq.X(qubits[1]),\n",
    "        cirq.CNOT(qubits[0], qubits[4]),\n",
    "        cirq.Y(qubits[2]),\n",
    "        cirq.CNOT(qubits[2], qubits[4]),\n",
    "        cirq.CNOT(qubits[3], qubits[4]),\n",
    "        cirq.Y(qubits[3]),\n",
    "        cirq.CNOT(qubits[3], qubits[5]),\n",
    "        cirq.Z(qubits[4])\n",
    "    )\n",
    "circuit"
   ]
  },
  {
   "cell_type": "markdown",
   "metadata": {},
   "source": [
    "And now we can route the circuit on the architecture, subject to the constraint that the 2-qubit interactions can only occur between neighbouring qubits. Internally, pytket converts the circuit to its own internal representation, performs routing on this and converts back to a cirq circuit. "
   ]
  },
  {
   "cell_type": "code",
   "execution_count": 13,
   "metadata": {},
   "outputs": [
    {
     "data": {
      "text/html": [
       "<pre style=\"overflow: auto; white-space: pre;\">(0, 0): ───H───×───────────────────────────────\n",
       "               │\n",
       "(0, 1): ───X───×───@───×───@───────────────────\n",
       "                   │   │   │\n",
       "(0, 2): ───Y───────┼───×───┼───────────────────\n",
       "                   │       │\n",
       "(1, 0): ───────────┼───────┼───@───Y───×───────\n",
       "                   │       │   │       │\n",
       "(1, 1): ───────────X───────X───X───Z───×───@───\n",
       "                                           │\n",
       "(1, 2): ───────────────────────────────────X───</pre>"
      ],
      "text/plain": [
       "(0, 0): ───H───×───────────────────────────────\n",
       "               │\n",
       "(0, 1): ───X───×───@───×───@───────────────────\n",
       "                   │   │   │\n",
       "(0, 2): ───Y───────┼───×───┼───────────────────\n",
       "                   │       │\n",
       "(1, 0): ───────────┼───────┼───@───Y───×───────\n",
       "                   │       │   │       │\n",
       "(1, 1): ───────────X───────X───X───Z───×───@───\n",
       "                                           │\n",
       "(1, 2): ───────────────────────────────────X───"
      ]
     },
     "execution_count": 13,
     "metadata": {},
     "output_type": "execute_result"
    }
   ],
   "source": [
    "route_circuit_xmon(circuit, device)"
   ]
  },
  {
   "cell_type": "markdown",
   "metadata": {},
   "source": [
    "Three swaps were needed to route this circuit. Can it be done with fewer?"
   ]
  },
  {
   "cell_type": "code",
   "execution_count": null,
   "metadata": {},
   "outputs": [],
   "source": []
  }
 ],
 "metadata": {
  "kernelspec": {
   "display_name": "Python 3",
   "language": "python",
   "name": "python3"
  },
  "language_info": {
   "codemirror_mode": {
    "name": "ipython",
    "version": 3
   },
   "file_extension": ".py",
   "mimetype": "text/x-python",
   "name": "python",
   "nbconvert_exporter": "python",
   "pygments_lexer": "ipython3",
   "version": "3.6.3"
  }
 },
 "nbformat": 4,
 "nbformat_minor": 2
}
