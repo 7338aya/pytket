{
 "cells": [
  {
   "cell_type": "markdown",
   "metadata": {},
   "source": [
    "# Cirq - t|ket> routing example"
   ]
  },
  {
   "cell_type": "markdown",
   "metadata": {},
   "source": [
    "First import cirq and required classes and functions from t|ket>.\n",
    "SquareGrid is the t|ket> class representing a rectangular grid of qubits, with qubits indexed continuously from (0,0), e.g. for a 3x3 grid, the indexing is: \n",
    "\n",
    "0 1 2 <br>\n",
    "3 4 5 <br>\n",
    "6 7 8\n",
    "\n",
    "`route_circuit` will take our circuit and return a routed one. Routing involves optimally adding swap commands such that the necessary 2-qubit interactions only take place between nearest-neighbour qubits (as is normally the case with superconducting qubits). <br>\n",
    "`get_grid_qubits` is a helper function to return a list of cirq.GridQubit which correspond to a list of provided indices on the given SquareGrid."
   ]
  },
  {
   "cell_type": "code",
   "execution_count": 1,
   "metadata": {},
   "outputs": [],
   "source": [
    "import cirq\n",
    "from pytket import SquareGrid, route_circuit\n",
    "from pytket.cirq_convert import get_grid_qubits"
   ]
  },
  {
   "cell_type": "markdown",
   "metadata": {},
   "source": [
    "Let's initialize a 3x3 grid and get the corresponding 9 qubits."
   ]
  },
  {
   "cell_type": "code",
   "execution_count": 2,
   "metadata": {},
   "outputs": [],
   "source": [
    "arc = SquareGrid(3, 3)\n",
    "qubits = get_grid_qubits(arc, range(9))"
   ]
  },
  {
   "cell_type": "markdown",
   "metadata": {},
   "source": [
    "Generate an arbitrary sample circuit. See the [readme](https://github.com/CQCL/pytket/blob/master/README.md) for currently supported gates, more added soon!"
   ]
  },
  {
   "cell_type": "code",
   "execution_count": 3,
   "metadata": {},
   "outputs": [
    {
     "data": {
      "text/html": [
       "<pre style=\"overflow: auto; white-space: pre;\">(0, 0): ───H───@───────────────────────────\n",
       "               │\n",
       "(0, 1): ───X───┼───────────────────────────\n",
       "               │\n",
       "(0, 2): ───────┼───────@───────────────────\n",
       "               │       │\n",
       "(1, 0): ───────┼───────┼───@───────@───────\n",
       "               │       │   │       │\n",
       "(1, 1): ───────X───Y───X───X───Y───┼───Z───\n",
       "                                   │\n",
       "(1, 2): ───────────────────────────X───────</pre>"
      ],
      "text/plain": [
       "(0, 0): ───H───@───────────────────────────\n",
       "               │\n",
       "(0, 1): ───X───┼───────────────────────────\n",
       "               │\n",
       "(0, 2): ───────┼───────@───────────────────\n",
       "               │       │\n",
       "(1, 0): ───────┼───────┼───@───────@───────\n",
       "               │       │   │       │\n",
       "(1, 1): ───────X───Y───X───X───Y───┼───Z───\n",
       "                                   │\n",
       "(1, 2): ───────────────────────────X───────"
      ]
     },
     "execution_count": 3,
     "metadata": {},
     "output_type": "execute_result"
    }
   ],
   "source": [
    "circuit = cirq.Circuit.from_ops(\n",
    "        cirq.H(qubits[0]),\n",
    "        cirq.X(qubits[1]),\n",
    "        cirq.CNOT(qubits[0], qubits[4]),\n",
    "        cirq.Y(qubits[4]),\n",
    "        cirq.CNOT(qubits[2], qubits[4]),\n",
    "        cirq.CNOT(qubits[3], qubits[4]),\n",
    "        cirq.Y(qubits[4]),\n",
    "        cirq.CNOT(qubits[3], qubits[5]),\n",
    "        cirq.Z(qubits[4])\n",
    "    )\n",
    "circuit"
   ]
  },
  {
   "cell_type": "markdown",
   "metadata": {},
   "source": [
    "And now we can route the circuit on the architecture, subject to the constraint that the 2-qubit interactions can only occur between neighbouring qubits. "
   ]
  },
  {
   "cell_type": "code",
   "execution_count": 4,
   "metadata": {},
   "outputs": [
    {
     "data": {
      "text/html": [
       "<pre style=\"overflow: auto; white-space: pre;\">(0, 0): ───H───×───────────────────────────────────\n",
       "               │\n",
       "(0, 1): ───X───×───@───×───@───────────────────────\n",
       "                   │   │   │\n",
       "(0, 2): ───────────┼───×───┼───────────────────────\n",
       "                   │       │\n",
       "(1, 0): ───────────┼───────┼───@───────────×───────\n",
       "                   │       │   │           │\n",
       "(1, 1): ───────────X───Y───X───X───Y───Z───×───@───\n",
       "                                               │\n",
       "(1, 2): ───────────────────────────────────────X───</pre>"
      ],
      "text/plain": [
       "(0, 0): ───H───×───────────────────────────────────\n",
       "               │\n",
       "(0, 1): ───X───×───@───×───@───────────────────────\n",
       "                   │   │   │\n",
       "(0, 2): ───────────┼───×───┼───────────────────────\n",
       "                   │       │\n",
       "(1, 0): ───────────┼───────┼───@───────────×───────\n",
       "                   │       │   │           │\n",
       "(1, 1): ───────────X───Y───X───X───Y───Z───×───@───\n",
       "                                               │\n",
       "(1, 2): ───────────────────────────────────────X───"
      ]
     },
     "execution_count": 4,
     "metadata": {},
     "output_type": "execute_result"
    }
   ],
   "source": [
    "route_circuit(circuit, arc)"
   ]
  },
  {
   "cell_type": "markdown",
   "metadata": {},
   "source": [
    "Three swaps were needed to route this circuit."
   ]
  },
  {
   "cell_type": "code",
   "execution_count": null,
   "metadata": {},
   "outputs": [],
   "source": []
  }
 ],
 "metadata": {
  "kernelspec": {
   "display_name": "Python 3",
   "language": "python",
   "name": "python3"
  },
  "language_info": {
   "codemirror_mode": {
    "name": "ipython",
    "version": 3
   },
   "file_extension": ".py",
   "mimetype": "text/x-python",
   "name": "python",
   "nbconvert_exporter": "python",
   "pygments_lexer": "ipython3",
   "version": "3.6.3"
  }
 },
 "nbformat": 4,
 "nbformat_minor": 2
}
