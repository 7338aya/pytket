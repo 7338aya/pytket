{
 "cells": [
  {
   "cell_type": "markdown",
   "metadata": {},
   "source": [
    "# Cirq - t|ket> routing example"
   ]
  },
  {
   "cell_type": "markdown",
   "metadata": {},
   "source": [
    "First import cirq and required classes and functions from t|ket>.\n",
    "`SquareGrid` is the t|ket> class representing a rectangular grid of qubits, with qubits indexed continuously from (0,0), e.g. for a 3x3 grid, the indexing is: \n",
    "\n",
    "0 1 2 <br>\n",
    "3 4 5 <br>\n",
    "6 7 8\n",
    "\n",
    "`SquareGrid` can be used to generate XmonDevice objects corresponding to rectangular grids. \n",
    "\n",
    "`route` will take our circuit and return a circuit routed on the provided XmonDevice. Routing involves optimally adding swap commands such that the necessary 2-qubit interactions only take place between nearest-neighbour qubits (as is normally the case with superconducting qubits). It also returns a pair of maps representing the qubit permutations specifying locations of each qubit on nodes of the architecture at the start and end of the circuit. <br>\n",
    "\n",
    "`get_grid_qubits` is a helper function to return a list of cirq.GridQubit which correspond to a list of provided indices on the given SquareGrid."
   ]
  },
  {
   "cell_type": "code",
   "execution_count": 1,
   "metadata": {},
   "outputs": [],
   "source": [
    "import cirq\n",
    "\n",
    "from pytket._routing import SquareGrid, route\n",
    "from pytket.cirq import get_grid_qubits, cirq_to_tk, tk_to_cirq"
   ]
  },
  {
   "cell_type": "markdown",
   "metadata": {},
   "source": [
    "Let's initialize a 3x3 grid and get the corresponding 9 qubits. This will be useful later on for translating qubits back to their locations on this grid."
   ]
  },
  {
   "cell_type": "code",
   "execution_count": 2,
   "metadata": {},
   "outputs": [],
   "source": [
    "arc = SquareGrid(3, 3)\n",
    "qubits = get_grid_qubits(arc, range(9))"
   ]
  },
  {
   "cell_type": "markdown",
   "metadata": {},
   "source": [
    "Generate an arbitrary sample circuit. See the [readme](https://github.com/CQCL/pytket/blob/master/README.md) for currently supported gates, more added soon!"
   ]
  },
  {
   "cell_type": "code",
   "execution_count": 3,
   "metadata": {},
   "outputs": [
    {
     "data": {
      "text/html": [
       "<pre style=\"overflow: auto; white-space: pre;\">              ┌──┐             ┌──┐\n",
       "(0, 0): ───H───@─────────────────────\n",
       "               │\n",
       "(0, 1): ───X───┼─────────────────────\n",
       "               │\n",
       "(0, 2): ───────┼Y───@────────────────\n",
       "               │    │\n",
       "(1, 0): ───────┼────┼───@───Y───@────\n",
       "               │    │   │       │\n",
       "(1, 1): ───────X────X───X───────┼Z───\n",
       "                                │\n",
       "(1, 2): ────────────────────────X────\n",
       "              └──┘             └──┘</pre>"
      ],
      "text/plain": [
       "              ┌──┐             ┌──┐\n",
       "(0, 0): ───H───@─────────────────────\n",
       "               │\n",
       "(0, 1): ───X───┼─────────────────────\n",
       "               │\n",
       "(0, 2): ───────┼Y───@────────────────\n",
       "               │    │\n",
       "(1, 0): ───────┼────┼───@───Y───@────\n",
       "               │    │   │       │\n",
       "(1, 1): ───────X────X───X───────┼Z───\n",
       "                                │\n",
       "(1, 2): ────────────────────────X────\n",
       "              └──┘             └──┘"
      ]
     },
     "execution_count": 3,
     "metadata": {},
     "output_type": "execute_result"
    }
   ],
   "source": [
    "circuit = cirq.Circuit.from_ops(\n",
    "        cirq.H(qubits[0]),\n",
    "        cirq.X(qubits[1]),\n",
    "        cirq.CNOT(qubits[0], qubits[4]),\n",
    "        cirq.Y(qubits[2]),\n",
    "        cirq.CNOT(qubits[2], qubits[4]),\n",
    "        cirq.CNOT(qubits[3], qubits[4]),\n",
    "        cirq.Y(qubits[3]),\n",
    "        cirq.CNOT(qubits[3], qubits[5]),\n",
    "        cirq.Z(qubits[4])\n",
    "    )\n",
    "circuit"
   ]
  },
  {
   "cell_type": "markdown",
   "metadata": {},
   "source": [
    "And now we can route the circuit on the architecture, subject to the constraint that the 2-qubit interactions can only occur between neighbouring qubits. We start by converting it to a tket Circuit object using `cirq_to_tk`.\n",
    "\n",
    "Tket Circuits are device-independent, so the qubit identifiers are not associated to nodes on a given architecture. The routed circuit will always have the same mapping of input nodes to qubits as in the original circuit. However, the routing process gives us a map saying how to position the qubits on our device. The conversion `tk_to_circ` takes a map from the tket Circuit qubits to the corresponding `QubitId` objects."
   ]
  },
  {
   "cell_type": "code",
   "execution_count": 4,
   "metadata": {},
   "outputs": [
    {
     "name": "stdout",
     "output_type": "stream",
     "text": [
      "([8, 3, 4, 6, 5, 7, 2, 1, 0], [8, 3, 5, 7, 4, 6, 2, 1, 0])\n"
     ]
    },
    {
     "data": {
      "text/html": [
       "<pre style=\"overflow: auto; white-space: pre;\">              ┌──┐\n",
       "(1, 0): ───X────────────────────────────────────\n",
       "\n",
       "(1, 1): ───Y────────@───X───@───X───X───Z───────\n",
       "                    │   │   │   │   │\n",
       "(1, 2): ────────X───X───@───X───@───┼───────────\n",
       "                │                   │\n",
       "(2, 0): ───X───@┼───X───────────────┼───────X───\n",
       "           │   ││   │               │       │\n",
       "(2, 1): ───@───X┼───@───────────────@───Y───@───\n",
       "                │\n",
       "(2, 2): ───H────@───────────────────────────────\n",
       "              └──┘</pre>"
      ],
      "text/plain": [
       "              ┌──┐\n",
       "(1, 0): ───X────────────────────────────────────\n",
       "\n",
       "(1, 1): ───Y────────@───X───@───X───X───Z───────\n",
       "                    │   │   │   │   │\n",
       "(1, 2): ────────X───X───@───X───@───┼───────────\n",
       "                │                   │\n",
       "(2, 0): ───X───@┼───X───────────────┼───────X───\n",
       "           │   ││   │               │       │\n",
       "(2, 1): ───@───X┼───@───────────────@───Y───@───\n",
       "                │\n",
       "(2, 2): ───H────@───────────────────────────────\n",
       "              └──┘"
      ]
     },
     "execution_count": 4,
     "metadata": {},
     "output_type": "execute_result"
    }
   ],
   "source": [
    "tk_circ = cirq_to_tk(circuit)\n",
    "tk_routed, qmap = route(tk_circ, arc)\n",
    "print(qmap)\n",
    "#tk_routed.reorderCircuitBoundary(qmap[0])\n",
    "final_qubits = [qubits[j] for i,j in enumerate(qmap[0])]\n",
    "tk_to_cirq(tk_routed, final_qubits)"
   ]
  },
  {
   "cell_type": "markdown",
   "metadata": {},
   "source": [
    "Note that the output qubits do not necessarily align with the original qubits as we have not swapped them back. The other qubit map returned after routing (`qmap[1]`) maps from the tket index of a qubit in the original circuit to its position at the end of the routed circuit.\n",
    "\n",
    "Two swaps were needed to route this particular circuit. Can it be done with fewer?"
   ]
  },
  {
   "cell_type": "code",
   "execution_count": null,
   "metadata": {},
   "outputs": [],
   "source": []
  }
 ],
 "metadata": {
  "kernelspec": {
   "display_name": "Python 3",
   "language": "python",
   "name": "python3"
  },
  "language_info": {
   "codemirror_mode": {
    "name": "ipython",
    "version": 3
   },
   "file_extension": ".py",
   "mimetype": "text/x-python",
   "name": "python",
   "nbconvert_exporter": "python",
   "pygments_lexer": "ipython3",
   "version": "3.7.0"
  }
 },
 "nbformat": 4,
 "nbformat_minor": 2
}
